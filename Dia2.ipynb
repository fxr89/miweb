{
  "nbformat": 4,
  "nbformat_minor": 0,
  "metadata": {
    "colab": {
      "provenance": [],
      "include_colab_link": true
    },
    "kernelspec": {
      "name": "python3",
      "display_name": "Python 3"
    },
    "language_info": {
      "name": "python"
    }
  },
  "cells": [
    {
      "cell_type": "markdown",
      "metadata": {
        "id": "view-in-github",
        "colab_type": "text"
      },
      "source": [
        "<a href=\"https://colab.research.google.com/github/fxr89/miweb/blob/master/Dia2.ipynb\" target=\"_parent\"><img src=\"https://colab.research.google.com/assets/colab-badge.svg\" alt=\"Open In Colab\"/></a>"
      ]
    },
    {
      "cell_type": "code",
      "execution_count": null,
      "metadata": {
        "colab": {
          "base_uri": "https://localhost:8080/"
        },
        "id": "zJHmmT5xbwEE",
        "outputId": "f815bd04-72cf-49a9-df34-62ed2418fe6a"
      },
      "outputs": [
        {
          "output_type": "stream",
          "name": "stdout",
          "text": [
            "El número de la posición dos es:  15\n",
            "El primer numero de la lista es: 50\n"
          ]
        }
      ],
      "source": [
        "#crear un lista de números\n",
        "numeros = [50, 20, 15, 60, 45, 80, 90] # tiene 7 items (longitud) pero la ultima posicion es 6\n",
        "\n",
        "print(\"El número de la posición dos es: \", numeros[2])\n",
        "print(\"El primer numero de la lista es:\", numeros[0])\n"
      ]
    },
    {
      "cell_type": "code",
      "source": [
        "#crear una lista de frutas\n",
        "frutas = [\"manzana\", \"uva\", \"fresa\"]\n",
        "print(\"La fruta es:\", frutas[1])\n",
        "\n",
        "frutas[1] = \"piña\" #cambiar el valor del item señalando la posición\n",
        "print(\"La fruta es:\", frutas[1])\n",
        "\n",
        "for fruta in frutas:\n",
        "  print(\"Fruta\", fruta)"
      ],
      "metadata": {
        "colab": {
          "base_uri": "https://localhost:8080/"
        },
        "id": "v0oWwz_3flwF",
        "outputId": "383fd7a4-e8af-438e-bd86-3c777a321069"
      },
      "execution_count": null,
      "outputs": [
        {
          "output_type": "stream",
          "name": "stdout",
          "text": [
            "La fruta es: uva\n",
            "La fruta es: piña\n",
            "Fruta manzana\n",
            "Fruta piña\n",
            "Fruta fresa\n"
          ]
        }
      ]
    },
    {
      "cell_type": "code",
      "source": [
        "#añadir un nuevo elemento a la lista de frutas\n",
        "frutas.append(\"sandía\")\n",
        "frutas.append(\"naranja\")\n",
        "frutas.append(\"pera\")\n",
        "print(frutas)\n",
        "frutas.sort(reverse=True)\n",
        "print(frutas)\n",
        "frutas.insert(2, \"melón\")\n",
        "frutas.insert(1, \"papaya\")\n",
        "print(frutas)"
      ],
      "metadata": {
        "colab": {
          "base_uri": "https://localhost:8080/"
        },
        "id": "IU4jIWbzhXX7",
        "outputId": "d0fd5574-3482-4457-de28-76b15666624b"
      },
      "execution_count": null,
      "outputs": [
        {
          "output_type": "stream",
          "name": "stdout",
          "text": [
            "['manzana', 'piña', 'fresa', 'sandía', 'naranja', 'pera']\n",
            "['sandía', 'piña', 'pera', 'naranja', 'manzana', 'fresa']\n",
            "['sandía', 'piña', 'melón', 'pera', 'naranja', 'manzana', 'fresa']\n"
          ]
        }
      ]
    },
    {
      "cell_type": "code",
      "source": [
        "#aprendizaje de diccionarios\n",
        "terminos_informaticos = {\"python\": \"Es un lenguaje de programación\", \"redes\": \"maneja cableado\", \"cloud\": \"adminstra servidores en la nube\"}\n",
        "print(terminos_informaticos)\n",
        "\n",
        "print(terminos_informaticos[\"python\"])\n",
        "print(terminos_informaticos[\"redes\"])\n",
        "print(terminos_informaticos[\"cloud\"])\n",
        "\n",
        "terminos_informaticos[\"C#\"] = \"Es un lenguaje con POO\"\n",
        "print(terminos_informaticos)\n"
      ],
      "metadata": {
        "colab": {
          "base_uri": "https://localhost:8080/"
        },
        "id": "P7jPR30ql69L",
        "outputId": "9a6803fb-cd96-4e29-8a72-284e65d91e23"
      },
      "execution_count": null,
      "outputs": [
        {
          "output_type": "stream",
          "name": "stdout",
          "text": [
            "{'python': 'Es un lenguaje de programación', 'redes': 'maneja cableado', 'cloud': 'adminstra servidores en la nube'}\n",
            "Es un lenguaje de programación\n",
            "maneja cableado\n",
            "adminstra servidores en la nube\n",
            "{'python': 'Es un lenguaje de programación', 'redes': 'maneja cableado', 'cloud': 'adminstra servidores en la nube', 'C#': 'Es un lenguaje con POO'}\n"
          ]
        }
      ]
    },
    {
      "cell_type": "code",
      "source": [
        "#Crear un diccionario con mis datos personales\n",
        "estudiante = {\n",
        "    \"nombre\": \"Diego Falconí\",\n",
        "    \"edad\": 28,\n",
        "    \"carrera\": \"Ing. Informática y Sistemas Computacionales\"\n",
        "}\n",
        "\n",
        "print(estudiante)\n",
        "estudiante[\"carrera\"] = \"Ing. Sistemas de Información\"\n",
        "print(estudiante)\n"
      ],
      "metadata": {
        "colab": {
          "base_uri": "https://localhost:8080/"
        },
        "id": "MNzgMcwFpChB",
        "outputId": "d5ba70d8-124e-40dd-89bd-e3333bd9dcdb"
      },
      "execution_count": null,
      "outputs": [
        {
          "output_type": "stream",
          "name": "stdout",
          "text": [
            "{'nombre': 'Diego Falconí', 'edad': 28, 'carrera': 'Ing. Informática y Sistemas Computacionales'}\n",
            "{'nombre': 'Diego Falconí', 'edad': 28, 'carrera': 'Ing. Sistemas de Información'}\n"
          ]
        }
      ]
    },
    {
      "cell_type": "code",
      "source": [
        "#crear un diccionario para materia y su calificación\n",
        "calificaciones = {\n",
        "    \"Matematica\": 10,\n",
        "    \"Historia\": 7,\n",
        "    \"Sistemas\": [5,4,6]\n",
        "}\n",
        "\n",
        "for clave, valor in calificaciones.items():\n",
        "  #print(\"La materia es\" + m + \"y su calificacion es\" + str(c))\n",
        "  #print(f\"La materia es {m} y su calificacion es {c}\")\n",
        "  print(\"La materia es\", clave, \"y su calificación es\", valor)\n",
        "  print(f\"La materia es {clave} y su calificacion es {valor}\")\n",
        "\n",
        "calificaciones.clear()\n",
        "print(calificaciones)"
      ],
      "metadata": {
        "colab": {
          "base_uri": "https://localhost:8080/"
        },
        "id": "gk30rp7ypxdP",
        "outputId": "aeae6c1c-b87f-495a-8c82-c17c507f622a"
      },
      "execution_count": null,
      "outputs": [
        {
          "output_type": "stream",
          "name": "stdout",
          "text": [
            "La materia es Matematica y su calificación es 10\n",
            "La materia es Matematica y su calificacion es 10\n",
            "La materia es Historia y su calificación es 7\n",
            "La materia es Historia y su calificacion es 7\n",
            "La materia es Sistemas y su calificación es [5, 4, 6]\n",
            "La materia es Sistemas y su calificacion es [5, 4, 6]\n",
            "{}\n"
          ]
        }
      ]
    }
  ]
}