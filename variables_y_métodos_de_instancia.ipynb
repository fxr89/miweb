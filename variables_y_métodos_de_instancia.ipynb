{
  "nbformat": 4,
  "nbformat_minor": 0,
  "metadata": {
    "colab": {
      "provenance": [],
      "authorship_tag": "ABX9TyO8M4uUFgCN34bLQ3QYi7Ty",
      "include_colab_link": true
    },
    "kernelspec": {
      "name": "python3",
      "display_name": "Python 3"
    },
    "language_info": {
      "name": "python"
    }
  },
  "cells": [
    {
      "cell_type": "markdown",
      "metadata": {
        "id": "view-in-github",
        "colab_type": "text"
      },
      "source": [
        "<a href=\"https://colab.research.google.com/github/fxr89/miweb/blob/master/variables_y_m%C3%A9todos_de_instancia.ipynb\" target=\"_parent\"><img src=\"https://colab.research.google.com/assets/colab-badge.svg\" alt=\"Open In Colab\"/></a>"
      ]
    },
    {
      "cell_type": "code",
      "execution_count": 1,
      "metadata": {
        "id": "7p3Kd_a8b4kQ",
        "colab": {
          "base_uri": "https://localhost:8080/"
        },
        "outputId": "598e960c-71f6-4b21-b166-c654f3e09ba0"
      },
      "outputs": [
        {
          "output_type": "stream",
          "name": "stdout",
          "text": [
            "Juan\n",
            "Perez\n"
          ]
        }
      ],
      "source": [
        "class Persona ():\n",
        "    def __init__(self, nombre, apellido):\n",
        "        self.nombre = nombre\n",
        "        self.apellido = apellido\n",
        "\n",
        "persona1 = Persona(\"Juan\", \"Perez\")\n",
        "print(persona1.nombre)\n",
        "print(persona1.apellido)"
      ]
    },
    {
      "cell_type": "code",
      "source": [
        "class Persona ():\n",
        "  edad=20\n",
        "  def __init__(self, nombre, nacionalidad):\n",
        "        self.nombre = nombre\n",
        "        self.nacionalidad = nacionalidad\n",
        "  def  correr (self):\n",
        "      print(\"Estoy corriendo\")\n",
        "\n",
        "print(Persona.edad)\n",
        "persona1 = Persona(\"Juan\", \"Peruano\")\n",
        "persona1.correr()\n",
        "\n",
        "\n"
      ],
      "metadata": {
        "colab": {
          "base_uri": "https://localhost:8080/"
        },
        "id": "TAKyotNUDniZ",
        "outputId": "ac157fdc-5d41-4afe-b059-5ac5cf60652b"
      },
      "execution_count": 6,
      "outputs": [
        {
          "output_type": "stream",
          "name": "stdout",
          "text": [
            "20\n",
            "Estoy corriendo\n"
          ]
        }
      ]
    }
  ]
}