{
  "nbformat": 4,
  "nbformat_minor": 0,
  "metadata": {
    "colab": {
      "provenance": [],
      "include_colab_link": true
    },
    "kernelspec": {
      "name": "python3",
      "display_name": "Python 3"
    },
    "language_info": {
      "name": "python"
    }
  },
  "cells": [
    {
      "cell_type": "markdown",
      "metadata": {
        "id": "view-in-github",
        "colab_type": "text"
      },
      "source": [
        "<a href=\"https://colab.research.google.com/github/fxr89/miweb/blob/master/d%C3%ADa1.ipynb\" target=\"_parent\"><img src=\"https://colab.research.google.com/assets/colab-badge.svg\" alt=\"Open In Colab\"/></a>"
      ]
    },
    {
      "cell_type": "markdown",
      "source": [],
      "metadata": {
        "id": "B8-GvyKmQyIV"
      }
    },
    {
      "cell_type": "code",
      "execution_count": null,
      "metadata": {
        "colab": {
          "base_uri": "https://localhost:8080/"
        },
        "id": "lMkkBfkZP0oo",
        "outputId": "f638c918-e78c-4029-be8e-b005e6b3450e"
      },
      "outputs": [
        {
          "output_type": "stream",
          "name": "stdout",
          "text": [
            "Este es un mensaje de prueba\n"
          ]
        }
      ],
      "source": [
        "print(\"Este es un mensaje de prueba\") #la funcion print sirve para imprimir un mensaje"
      ]
    },
    {
      "cell_type": "code",
      "source": [
        "#realizar un ejemplo de la suma de dos números\n",
        "print(\"Operación de suma de dos números\")\n",
        "numero_1 = 15 # declaro la variable \"numero_1\" con el valor de 5\n",
        "numero_2 = 10 # declaro la variable \"numero_2\" con el valor de 10\n",
        "\n",
        "suma = numero_1 + numero_2\n",
        "print(\"La suma es:\", suma)\n"
      ],
      "metadata": {
        "colab": {
          "base_uri": "https://localhost:8080/"
        },
        "id": "7ms20fn4Q76c",
        "outputId": "7d42c2ff-76e0-4d18-b551-8a019698a84a"
      },
      "execution_count": null,
      "outputs": [
        {
          "output_type": "stream",
          "name": "stdout",
          "text": [
            "Operación de suma de dos números\n",
            "La suma es: 25\n"
          ]
        }
      ]
    },
    {
      "cell_type": "code",
      "source": [
        "#realizar la suma de dos numeros, ingresados por el usuario\n",
        "print(\"Operación de suma de dos números, ingresados por el usuario\")\n",
        "n_1 = int(input(\"Ingrese el número 1: \"))\n",
        "n_2 = int(input(\"Ingrese el número 2: \"))\n",
        "s = n_1 + n_2\n",
        "print(\"La suma es:\", s)"
      ],
      "metadata": {
        "colab": {
          "base_uri": "https://localhost:8080/"
        },
        "id": "vjz-6vYfTiW1",
        "outputId": "96b9d599-ef9c-411a-a8f8-6547231ef6aa"
      },
      "execution_count": null,
      "outputs": [
        {
          "output_type": "stream",
          "name": "stdout",
          "text": [
            "Operación de suma de dos números, ingresados por el usuario\n",
            "Ingrese el número 1: 5\n",
            "Ingrese el número 2: 10\n",
            "La suma es: 15\n"
          ]
        }
      ]
    },
    {
      "cell_type": "code",
      "source": [
        "# imprimir en un mensaje el nombre ingresado\n",
        "nombre = \"Diego \"\n",
        "apellido = \"Falconí\"\n",
        "nombre_completo = nombre + apellido\n",
        "print(\"El nombre completo es\", nombre_completo)"
      ],
      "metadata": {
        "colab": {
          "base_uri": "https://localhost:8080/"
        },
        "id": "KpH93gnpWh46",
        "outputId": "7ba99901-360a-42eb-b091-834d63dc1077"
      },
      "execution_count": null,
      "outputs": [
        {
          "output_type": "stream",
          "name": "stdout",
          "text": [
            "El nombre completo es Diego Falconí\n"
          ]
        }
      ]
    },
    {
      "cell_type": "code",
      "source": [
        "#imprimir en un mensaje el nombre ingresado por el usuario\n",
        "nombre = input(\"Ingrese el nombre: \")\n",
        "apellido = input(\"Ingrese el apellido: \")\n",
        "nombre_completo = nombre + \" \" + apellido\n",
        "print(\"El nombre completo es:\", nombre_completo)"
      ],
      "metadata": {
        "colab": {
          "base_uri": "https://localhost:8080/"
        },
        "id": "VaOfMqkJXRim",
        "outputId": "93f24092-2281-40ce-9f04-46f7181c9f2e"
      },
      "execution_count": null,
      "outputs": [
        {
          "output_type": "stream",
          "name": "stdout",
          "text": [
            "Ingrese el nombre: Diego\n",
            "Ingrese el apellido: Falconí\n",
            "El nombre completo es: Diego Falconí\n"
          ]
        }
      ]
    },
    {
      "cell_type": "code",
      "source": [
        "#Ingresar un número float y redondearlo\n",
        "numero_decimal = float(input(\"Ingrese el número decimal: \"))\n",
        "#print(\"El número ingresado es:\", numero_decimal)\n",
        "\n",
        "#Utilizar un método nativo de python para redondeo\n",
        "resultado = round(numero_decimal, 1)\n",
        "print(\"El número redondeado es: \", resultado)"
      ],
      "metadata": {
        "id": "jhKerTeKYdwx"
      },
      "execution_count": null,
      "outputs": []
    },
    {
      "cell_type": "code",
      "source": [
        "#Validar un número positivo\n",
        "numero = int(input(\"Ingrese el número a validar: \"))\n",
        "\n",
        "#sentencia if else\n",
        "if numero > 0:\n",
        "  print(\"El número es positivo\") #flujo verdadero\n",
        "else:\n",
        "  print(\"El número es negativo\") #flujo falso\n",
        "\n"
      ],
      "metadata": {
        "colab": {
          "base_uri": "https://localhost:8080/"
        },
        "id": "Fmh5ZgEqb36H",
        "outputId": "8b8764d5-2775-483b-d345-b44f9b9cee04"
      },
      "execution_count": null,
      "outputs": [
        {
          "output_type": "stream",
          "name": "stdout",
          "text": [
            "Ingrese el número a validar: -9\n",
            "El número es negativo\n"
          ]
        }
      ]
    },
    {
      "cell_type": "code",
      "source": [
        "#validar un nombre escrito por el usuario\n",
        "nombre = input(\"Ingrese el nombre: \")\n",
        "\n",
        "if nombre == \"Diego\":\n",
        "  print(\"Registraste el nombre correcto\") #respuesta verdadero\n",
        "  if nombre == \"Kevin\":\n",
        "    print(\"Intenta otra vez\")\n",
        "else:\n",
        "  print(\"No es ese el nombre que tengo registrado\") #respuesta falsa"
      ],
      "metadata": {
        "colab": {
          "base_uri": "https://localhost:8080/"
        },
        "id": "9Lzb9oBtdAEI",
        "outputId": "26ba0853-5604-4804-ee52-20b7e5e19683"
      },
      "execution_count": null,
      "outputs": [
        {
          "output_type": "stream",
          "name": "stdout",
          "text": [
            "Ingrese el nombre: Diego\n",
            "Registraste el nombre correcto\n"
          ]
        }
      ]
    },
    {
      "cell_type": "code",
      "source": [
        "#Validar la calificacion para establecer un valor ponderado\n",
        "califacion = int(input(\"Ingresa la calificación: \"))\n",
        "\n",
        "if califacion >= 90:\n",
        "  print(\"A\")\n",
        "elif califacion >= 80:\n",
        "  print(\"B\")\n",
        "elif califacion >= 70:\n",
        "  print(\"C\")\n",
        "elif califacion >= 60:\n",
        "  print(\"D\")\n",
        "else:\n",
        "  print(\"E\")"
      ],
      "metadata": {
        "colab": {
          "base_uri": "https://localhost:8080/"
        },
        "id": "6Sf7TK4peYRq",
        "outputId": "f2392c93-706c-4683-d14a-3d591ee04d55"
      },
      "execution_count": null,
      "outputs": [
        {
          "output_type": "stream",
          "name": "stdout",
          "text": [
            "Ingresa la calificación: 60\n",
            "D\n"
          ]
        }
      ]
    },
    {
      "cell_type": "code",
      "source": [
        "#funciones\n",
        "def saludar():\n",
        "  print(\"Hola amigos del curso de Python\")\n",
        "\n",
        "# llamado a la función\n",
        "saludar()\n",
        "saludar()"
      ],
      "metadata": {
        "colab": {
          "base_uri": "https://localhost:8080/"
        },
        "id": "bp7xAGB2hXM2",
        "outputId": "94aa46b1-4b24-4fe1-9466-57a1d98c8bc2"
      },
      "execution_count": null,
      "outputs": [
        {
          "output_type": "stream",
          "name": "stdout",
          "text": [
            "Hola amigos del curso de Python\n",
            "Hola amigos del curso de Python\n"
          ]
        }
      ]
    },
    {
      "cell_type": "code",
      "source": [
        "def sumar(numero1, numero2):\n",
        "  suma = numero1 + numero2\n",
        "  return suma\n",
        "  #print(\"la suma es:\", suma)\n",
        "\n",
        "print(\"la suma es\", sumar(8, 5))\n",
        "\n",
        "print(\"la suma es\", sumar(10, 15))"
      ],
      "metadata": {
        "colab": {
          "base_uri": "https://localhost:8080/"
        },
        "id": "Rt6N852TigSu",
        "outputId": "bfc374f3-adc2-453c-f8ff-10bcaecaf883"
      },
      "execution_count": null,
      "outputs": [
        {
          "output_type": "stream",
          "name": "stdout",
          "text": [
            "la suma es 13\n",
            "la suma es 25\n"
          ]
        }
      ]
    }
  ]
}