{
  "nbformat": 4,
  "nbformat_minor": 0,
  "metadata": {
    "colab": {
      "provenance": [],
      "authorship_tag": "ABX9TyPk/Rr2LatQqLufot9KVpl7",
      "include_colab_link": true
    },
    "kernelspec": {
      "name": "python3",
      "display_name": "Python 3"
    },
    "language_info": {
      "name": "python"
    }
  },
  "cells": [
    {
      "cell_type": "markdown",
      "metadata": {
        "id": "view-in-github",
        "colab_type": "text"
      },
      "source": [
        "<a href=\"https://colab.research.google.com/github/fxr89/miweb/blob/master/variables_y_m_todos_de_instancia.ipynb\" target=\"_parent\"><img src=\"https://colab.research.google.com/assets/colab-badge.svg\" alt=\"Open In Colab\"/></a>"
      ]
    },
    {
      "cell_type": "code",
      "execution_count": null,
      "metadata": {
        "id": "7p3Kd_a8b4kQ",
        "colab": {
          "base_uri": "https://localhost:8080/"
        },
        "outputId": "598e960c-71f6-4b21-b166-c654f3e09ba0"
      },
      "outputs": [
        {
          "output_type": "stream",
          "name": "stdout",
          "text": [
            "Juan\n",
            "Perez\n"
          ]
        }
      ],
      "source": [
        "# Variables de instancia\n",
        "class Persona ():\n",
        "    def __init__(self, nombre, apellido):\n",
        "        self.nombre = nombre\n",
        "        self.apellido = apellido\n",
        "\n",
        "persona1 = Persona(\"Juan\", \"Perez\")\n",
        "print(persona1.nombre)\n",
        "print(persona1.apellido)"
      ]
    },
    {
      "cell_type": "code",
      "source": [
        "# Métodos de instancia\n",
        "class Persona ():\n",
        "  edad=20\n",
        "  def __init__(self, nombre, nacionalidad,edad1):\n",
        "        self.nombre = nombre\n",
        "        self.nacionalidad = nacionalidad\n",
        "        self.edad1=edad1\n",
        "class Persona1 (Persona):\n",
        "  def __init__(self, nombre, nacionalidad,edad1):\n",
        "        super().__init__(nombre, nacionalidad,edad1)\n",
        "  def  correr (self):\n",
        "      print(f\"método de la clase persona {self.edad1}\")\n",
        "\n",
        "print(Persona.edad)\n",
        "pers = Persona1(\"Juan\", \"Peruano\",10)\n",
        "print(pers.nombre)\n",
        "print(pers.nacionalidad)\n",
        "pers.correr()\n",
        "\n",
        "\n"
      ],
      "metadata": {
        "colab": {
          "base_uri": "https://localhost:8080/"
        },
        "id": "TAKyotNUDniZ",
        "outputId": "8399008e-60a3-4d5c-bfba-be3691b3a887"
      },
      "execution_count": null,
      "outputs": [
        {
          "output_type": "stream",
          "name": "stdout",
          "text": [
            "20\n",
            "Juan\n",
            "Peruano\n",
            "método de la clase persona 10\n"
          ]
        }
      ]
    },
    {
      "cell_type": "code",
      "source": [
        "# Métodos de clase\n"
      ],
      "metadata": {
        "id": "powo5A4WFwOV"
      },
      "execution_count": null,
      "outputs": []
    }
  ]
}